{
  "cells": [
    {
      "cell_type": "code",
      "metadata": {},
      "source": [
        "# Databricks notebook source\n",
        "# MAGIC %run ./_common\n",
        "\n",
        "# COMMAND ----------\n",
        "\n",
        "lesson_config.create_schema = False                 # We don't need a schema when simply printing the copyrights\n",
        "\n",
        "DA = DBAcademyHelper(course_config, lesson_config)  # Create the DA object\n",
        "DA.reset_lesson()                                   # Reset the lesson to a clean state\n",
        "DA.init()                                           # Performs basic intialization including creating schemas and catalogs\n",
        "DA.conclude_setup()                                 # Finalizes the state and prints the config for the student\n",
        "\n",
        "# COMMAND ----------\n",
        "\n",
        "# Once initialized, just print the copyrights\n",
        "DA.print_copyrights()\n",
        "\n",
        "\n"
      ],
      "outputs": [],
      "execution_count": null
    }
  ],
  "metadata": {
    "anaconda-cloud": {},
    "kernelspec": {
      "display_name": "Python 3",
      "language": "python",
      "name": "python3"
    },
    "language_info": {
      "codemirror_mode": {
        "name": "ipython",
        "version": 3
      },
      "file_extension": ".py",
      "mimetype": "text/x-python",
      "name": "python",
      "nbconvert_exporter": "python",
      "pygments_lexer": "ipython3",
      "version": "3.6.1"
    }
  },
  "nbformat": 4,
  "nbformat_minor": 4
}