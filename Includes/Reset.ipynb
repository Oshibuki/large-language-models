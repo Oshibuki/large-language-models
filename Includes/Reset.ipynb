{
  "cells": [
    {
      "cell_type": "code",
      "metadata": {},
      "source": [
        "# Databricks notebook source\n",
        "# MAGIC %run ./_common\n",
        "\n",
        "# COMMAND ----------\n",
        "\n",
        "lesson_config.create_schema = False                 # We don't need a schema when resetting the environment\n",
        "lesson_config.create_catalog = False                # Not using UC right now\n",
        "lesson_config.installing_datasets = False           # We don't want to install datasets when resetting the environment\n",
        "\n",
        "DA = DBAcademyHelper(course_config, lesson_config)  # Create the DA object\n",
        "DA.reset_learning_environment()                     # Once initialized, reset the entire learning environment\n",
        "\n"
      ],
      "outputs": [],
      "execution_count": null
    }
  ],
  "metadata": {
    "anaconda-cloud": {},
    "kernelspec": {
      "display_name": "Python 3",
      "language": "python",
      "name": "python3"
    },
    "language_info": {
      "codemirror_mode": {
        "name": "ipython",
        "version": 3
      },
      "file_extension": ".py",
      "mimetype": "text/x-python",
      "name": "python",
      "nbconvert_exporter": "python",
      "pygments_lexer": "ipython3",
      "version": "3.6.1"
    }
  },
  "nbformat": 4,
  "nbformat_minor": 4
}