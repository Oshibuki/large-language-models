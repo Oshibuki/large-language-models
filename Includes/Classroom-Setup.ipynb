{
  "cells": [
    {
      "cell_type": "code",
      "metadata": {},
      "source": [
        "# Databricks notebook source\n",
        "# MAGIC %run ./_common\n",
        "\n",
        "# COMMAND ----------\n",
        "\n",
        "DA = DBAcademyHelper(course_config, lesson_config)  # Create the DA object\n",
        "DA.reset_lesson()                                   # Reset the lesson to a clean state\n",
        "DA.init()                                           # Performs basic intialization including creating schemas and catalogs\n",
        "\n",
        "DA.paths.working_dir = DA.paths.to_vm_path(DA.paths.working_dir)\n",
        "DA.paths.datasets = DA.paths.to_vm_path(DA.paths.datasets)\n",
        "\n",
        "# COMMAND ----------\n",
        "\n",
        "# MAGIC %run ./Test-Framework\n",
        "\n",
        "# COMMAND ----------\n",
        "\n",
        "DA.conclude_setup()                                 # Finalizes the state and prints the config for the student\n",
        "\n",
        "print(\"\\nThe models developed or used in this course are for demonstration and learning purposes only.\\nModels may occasionally output offensive, inaccurate, biased information, or harmful instructions.\")\n",
        "\n"
      ],
      "outputs": [],
      "execution_count": null
    }
  ],
  "metadata": {
    "anaconda-cloud": {},
    "kernelspec": {
      "display_name": "Python 3",
      "language": "python",
      "name": "python3"
    },
    "language_info": {
      "codemirror_mode": {
        "name": "ipython",
        "version": 3
      },
      "file_extension": ".py",
      "mimetype": "text/x-python",
      "name": "python",
      "nbconvert_exporter": "python",
      "pygments_lexer": "ipython3",
      "version": "3.6.1"
    }
  },
  "nbformat": 4,
  "nbformat_minor": 4
}